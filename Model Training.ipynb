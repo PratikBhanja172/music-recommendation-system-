{
 "cells": [
  {
   "cell_type": "code",
   "execution_count": 42,
   "id": "879353d3-e438-47f8-9b7f-fb3923b0a447",
   "metadata": {},
   "outputs": [],
   "source": [
    "import pandas as pd"
   ]
  },
  {
   "cell_type": "code",
   "execution_count": 44,
   "id": "1f4751db-4b7d-4c44-a74d-230d38b77718",
   "metadata": {},
   "outputs": [],
   "source": [
    "df=pd.read_csv(\"spotify_millsongdata.csv\")"
   ]
  },
  {
   "cell_type": "code",
   "execution_count": 45,
   "id": "51c8d89b-8e42-4573-bad0-11a2ff401475",
   "metadata": {},
   "outputs": [
    {
     "data": {
      "text/html": [
       "<div>\n",
       "<style scoped>\n",
       "    .dataframe tbody tr th:only-of-type {\n",
       "        vertical-align: middle;\n",
       "    }\n",
       "\n",
       "    .dataframe tbody tr th {\n",
       "        vertical-align: top;\n",
       "    }\n",
       "\n",
       "    .dataframe thead th {\n",
       "        text-align: right;\n",
       "    }\n",
       "</style>\n",
       "<table border=\"1\" class=\"dataframe\">\n",
       "  <thead>\n",
       "    <tr style=\"text-align: right;\">\n",
       "      <th></th>\n",
       "      <th>artist</th>\n",
       "      <th>song</th>\n",
       "      <th>link</th>\n",
       "      <th>text</th>\n",
       "    </tr>\n",
       "  </thead>\n",
       "  <tbody>\n",
       "    <tr>\n",
       "      <th>0</th>\n",
       "      <td>ABBA</td>\n",
       "      <td>Ahe's My Kind Of Girl</td>\n",
       "      <td>/a/abba/ahes+my+kind+of+girl_20598417.html</td>\n",
       "      <td>Look at her face, it's a wonderful face  \\r\\nA...</td>\n",
       "    </tr>\n",
       "    <tr>\n",
       "      <th>1</th>\n",
       "      <td>ABBA</td>\n",
       "      <td>Andante, Andante</td>\n",
       "      <td>/a/abba/andante+andante_20002708.html</td>\n",
       "      <td>Take it easy with me, please  \\r\\nTouch me gen...</td>\n",
       "    </tr>\n",
       "    <tr>\n",
       "      <th>2</th>\n",
       "      <td>ABBA</td>\n",
       "      <td>As Good As New</td>\n",
       "      <td>/a/abba/as+good+as+new_20003033.html</td>\n",
       "      <td>I'll never know why I had to go  \\r\\nWhy I had...</td>\n",
       "    </tr>\n",
       "    <tr>\n",
       "      <th>3</th>\n",
       "      <td>ABBA</td>\n",
       "      <td>Bang</td>\n",
       "      <td>/a/abba/bang_20598415.html</td>\n",
       "      <td>Making somebody happy is a question of give an...</td>\n",
       "    </tr>\n",
       "    <tr>\n",
       "      <th>4</th>\n",
       "      <td>ABBA</td>\n",
       "      <td>Bang-A-Boomerang</td>\n",
       "      <td>/a/abba/bang+a+boomerang_20002668.html</td>\n",
       "      <td>Making somebody happy is a question of give an...</td>\n",
       "    </tr>\n",
       "  </tbody>\n",
       "</table>\n",
       "</div>"
      ],
      "text/plain": [
       "  artist                   song                                        link  \\\n",
       "0   ABBA  Ahe's My Kind Of Girl  /a/abba/ahes+my+kind+of+girl_20598417.html   \n",
       "1   ABBA       Andante, Andante       /a/abba/andante+andante_20002708.html   \n",
       "2   ABBA         As Good As New        /a/abba/as+good+as+new_20003033.html   \n",
       "3   ABBA                   Bang                  /a/abba/bang_20598415.html   \n",
       "4   ABBA       Bang-A-Boomerang      /a/abba/bang+a+boomerang_20002668.html   \n",
       "\n",
       "                                                text  \n",
       "0  Look at her face, it's a wonderful face  \\r\\nA...  \n",
       "1  Take it easy with me, please  \\r\\nTouch me gen...  \n",
       "2  I'll never know why I had to go  \\r\\nWhy I had...  \n",
       "3  Making somebody happy is a question of give an...  \n",
       "4  Making somebody happy is a question of give an...  "
      ]
     },
     "execution_count": 45,
     "metadata": {},
     "output_type": "execute_result"
    }
   ],
   "source": [
    "df.head(5)"
   ]
  },
  {
   "cell_type": "code",
   "execution_count": 46,
   "id": "43516843-161d-4868-a2f3-b48fdd7348d5",
   "metadata": {},
   "outputs": [
    {
     "data": {
      "text/plain": [
       "(57650, 4)"
      ]
     },
     "execution_count": 46,
     "metadata": {},
     "output_type": "execute_result"
    }
   ],
   "source": [
    "df.shape"
   ]
  },
  {
   "cell_type": "code",
   "execution_count": 50,
   "id": "3ac5934f-2534-4a3c-89c9-77e6a6adbd1b",
   "metadata": {},
   "outputs": [
    {
     "data": {
      "text/plain": [
       "artist    0\n",
       "song      0\n",
       "link      0\n",
       "text      0\n",
       "dtype: int64"
      ]
     },
     "execution_count": 50,
     "metadata": {},
     "output_type": "execute_result"
    }
   ],
   "source": [
    "df.isnull().sum()"
   ]
  },
  {
   "cell_type": "code",
   "execution_count": 52,
   "id": "ac1ac2a6-2cbd-406e-92ab-02779b87c692",
   "metadata": {},
   "outputs": [],
   "source": [
    "df =df.sample(5000).drop('link', axis=1).reset_index(drop=True)"
   ]
  },
  {
   "cell_type": "code",
   "execution_count": 53,
   "id": "55ebd124-afa6-4527-8c23-5a53a2b2d6b7",
   "metadata": {},
   "outputs": [
    {
     "data": {
      "text/html": [
       "<div>\n",
       "<style scoped>\n",
       "    .dataframe tbody tr th:only-of-type {\n",
       "        vertical-align: middle;\n",
       "    }\n",
       "\n",
       "    .dataframe tbody tr th {\n",
       "        vertical-align: top;\n",
       "    }\n",
       "\n",
       "    .dataframe thead th {\n",
       "        text-align: right;\n",
       "    }\n",
       "</style>\n",
       "<table border=\"1\" class=\"dataframe\">\n",
       "  <thead>\n",
       "    <tr style=\"text-align: right;\">\n",
       "      <th></th>\n",
       "      <th>artist</th>\n",
       "      <th>song</th>\n",
       "      <th>text</th>\n",
       "    </tr>\n",
       "  </thead>\n",
       "  <tbody>\n",
       "    <tr>\n",
       "      <th>4995</th>\n",
       "      <td>Oasis</td>\n",
       "      <td>Going Nowhere</td>\n",
       "      <td>Hate the way that you've taken back  \\r\\nEvery...</td>\n",
       "    </tr>\n",
       "    <tr>\n",
       "      <th>4996</th>\n",
       "      <td>Avril Lavigne</td>\n",
       "      <td>What The Hell</td>\n",
       "      <td>You say that I'm messing with your head  \\r\\nY...</td>\n",
       "    </tr>\n",
       "    <tr>\n",
       "      <th>4997</th>\n",
       "      <td>Keith Urban</td>\n",
       "      <td>Freedom's Finally Mine</td>\n",
       "      <td>Freedom's Finally Mine  \\r\\nI'm on a red dirt ...</td>\n",
       "    </tr>\n",
       "    <tr>\n",
       "      <th>4998</th>\n",
       "      <td>Garth Brooks</td>\n",
       "      <td>Hard Luck Woman</td>\n",
       "      <td>If never I'd met you  \\r\\nI'd never have seen ...</td>\n",
       "    </tr>\n",
       "    <tr>\n",
       "      <th>4999</th>\n",
       "      <td>Steely Dan</td>\n",
       "      <td>A Little With Sugar</td>\n",
       "      <td>I remember Christmas morning  \\r\\nBack in 1954...</td>\n",
       "    </tr>\n",
       "  </tbody>\n",
       "</table>\n",
       "</div>"
      ],
      "text/plain": [
       "             artist                    song  \\\n",
       "4995          Oasis           Going Nowhere   \n",
       "4996  Avril Lavigne           What The Hell   \n",
       "4997    Keith Urban  Freedom's Finally Mine   \n",
       "4998   Garth Brooks         Hard Luck Woman   \n",
       "4999     Steely Dan     A Little With Sugar   \n",
       "\n",
       "                                                   text  \n",
       "4995  Hate the way that you've taken back  \\r\\nEvery...  \n",
       "4996  You say that I'm messing with your head  \\r\\nY...  \n",
       "4997  Freedom's Finally Mine  \\r\\nI'm on a red dirt ...  \n",
       "4998  If never I'd met you  \\r\\nI'd never have seen ...  \n",
       "4999  I remember Christmas morning  \\r\\nBack in 1954...  "
      ]
     },
     "execution_count": 53,
     "metadata": {},
     "output_type": "execute_result"
    }
   ],
   "source": [
    "df.tail(5)"
   ]
  },
  {
   "cell_type": "code",
   "execution_count": 54,
   "id": "b7aa840c-321c-4fb9-9a71-d795e12cde0b",
   "metadata": {},
   "outputs": [
    {
     "data": {
      "text/plain": [
       "\"I stopped flying a long time ago,  \\r\\nThinking that's just for the birds and bees.  \\r\\nBut when I look up (I look up)  \\r\\nAnd see the sky, (see the sky)  \\r\\nI like the blue and I know why.  \\r\\n  \\r\\nYou came from Zeus, we come from Uranus,  \\r\\nHoping to meet soul to soul.  \\r\\nWe see you clearly, (clearly)  \\r\\nWith our third eye, (with our third eye)  \\r\\nThere's no more fear and I know why.  \\r\\n  \\r\\nSky people, that's what we are,  \\r\\nSky people, that's what we are.  \\r\\nOne day we'll fly and leap through the sky  \\r\\nTo look for a good land hand in hand.  \\r\\n  \\r\\nSky people, that's what we are,  \\r\\nSky people, that's what we are,  \\r\\nSky people, that's what we are,  \\r\\nSky people, that's what we are.\\r\\n\\r\\n\""
      ]
     },
     "execution_count": 54,
     "metadata": {},
     "output_type": "execute_result"
    }
   ],
   "source": [
    "df['text'][0]"
   ]
  },
  {
   "cell_type": "code",
   "execution_count": 55,
   "id": "e358ea66-5e84-413b-9a54-4ecfa74b72d9",
   "metadata": {},
   "outputs": [],
   "source": [
    "df['text'] = df['text'].str.lower().replace(r'^\\w\\s', ' ').replace(r'\\n', ' ', regex = True)"
   ]
  },
  {
   "cell_type": "code",
   "execution_count": 56,
   "id": "1e85d2b2-3b8a-46c7-a694-ca82dc0f2ee0",
   "metadata": {},
   "outputs": [],
   "source": [
    "import nltk\n",
    "from nltk.stem.porter import PorterStemmer\n",
    "stemmer = PorterStemmer()\n",
    "\n",
    "def tokenization(txt):\n",
    "    tokens = nltk.word_tokenize(txt)\n",
    "    stemming = [stemmer.stem(w) for w in tokens]\n",
    "    return \" \".join(stemming)"
   ]
  },
  {
   "cell_type": "code",
   "execution_count": 61,
   "id": "7f4362a8-c8ba-45f6-827f-e1d2186e6165",
   "metadata": {},
   "outputs": [],
   "source": [
    "from sklearn.feature_extraction.text import TfidfVectorizer\n",
    "from sklearn.metrics.pairwise import cosine_similarity"
   ]
  },
  {
   "cell_type": "code",
   "execution_count": 63,
   "id": "860dd57a-e4fb-49fd-b061-856644d5a4eb",
   "metadata": {},
   "outputs": [],
   "source": [
    "tfidvector = TfidfVectorizer(analyzer='word',stop_words='english')\n",
    "matrix = tfidvector.fit_transform(df['text'])\n",
    "similarity = cosine_similarity(matrix)"
   ]
  },
  {
   "cell_type": "code",
   "execution_count": 64,
   "id": "47cc13f2-ce1e-47a8-87c1-4743a4f4c8c7",
   "metadata": {},
   "outputs": [
    {
     "data": {
      "text/plain": [
       "array([1.        , 0.0078338 , 0.03838586, ..., 0.04031039, 0.0074373 ,\n",
       "       0.0246232 ])"
      ]
     },
     "execution_count": 64,
     "metadata": {},
     "output_type": "execute_result"
    }
   ],
   "source": [
    "similarity[0]"
   ]
  },
  {
   "cell_type": "code",
   "execution_count": 66,
   "id": "1018b05a-f6cb-42ff-afb9-91465db4526e",
   "metadata": {},
   "outputs": [
    {
     "data": {
      "text/html": [
       "<div>\n",
       "<style scoped>\n",
       "    .dataframe tbody tr th:only-of-type {\n",
       "        vertical-align: middle;\n",
       "    }\n",
       "\n",
       "    .dataframe tbody tr th {\n",
       "        vertical-align: top;\n",
       "    }\n",
       "\n",
       "    .dataframe thead th {\n",
       "        text-align: right;\n",
       "    }\n",
       "</style>\n",
       "<table border=\"1\" class=\"dataframe\">\n",
       "  <thead>\n",
       "    <tr style=\"text-align: right;\">\n",
       "      <th></th>\n",
       "      <th>artist</th>\n",
       "      <th>song</th>\n",
       "      <th>text</th>\n",
       "    </tr>\n",
       "  </thead>\n",
       "  <tbody>\n",
       "  </tbody>\n",
       "</table>\n",
       "</div>"
      ],
      "text/plain": [
       "Empty DataFrame\n",
       "Columns: [artist, song, text]\n",
       "Index: []"
      ]
     },
     "execution_count": 66,
     "metadata": {},
     "output_type": "execute_result"
    }
   ],
   "source": [
    "df[df['song'] == 'Crying Over You']"
   ]
  },
  {
   "cell_type": "code",
   "execution_count": 67,
   "id": "bc5fce07-de51-412c-838b-ea68bfd79c07",
   "metadata": {},
   "outputs": [],
   "source": [
    "def recommendation(song_df):\n",
    "    try:\n",
    "        idx = df[df['song'] == song_df].index[0]\n",
    "    except IndexError:\n",
    "        print(f\"Error: Song '{song_df}' not found in the dataset.\")\n",
    "        return []\n",
    "\n",
    "    distances = sorted(list(enumerate(similarity[idx])), reverse=True, key=lambda x: x[1])\n",
    "\n",
    "    songs = []\n",
    "    for i in distances[1:6]:\n",
    "        songs.append(df.iloc[i[0]]['song'])\n",
    "    return songs\n"
   ]
  },
  {
   "cell_type": "code",
   "execution_count": 90,
   "id": "80904b8b-87bf-4739-8a23-a02f10b148d0",
   "metadata": {
    "scrolled": true
   },
   "outputs": [
    {
     "data": {
      "text/plain": [
       "['Goodbye To Romance',\n",
       " 'Goodbye Love',\n",
       " 'Long, Long Way To Go',\n",
       " \"I Just Can't Let You Say Goodbye\",\n",
       " 'It Takes So Long (To Say Goodbye)']"
      ]
     },
     "execution_count": 90,
     "metadata": {},
     "output_type": "execute_result"
    }
   ],
   "source": [
    "recommendation('Goodbye Stranger')"
   ]
  },
  {
   "cell_type": "code",
   "execution_count": 96,
   "id": "9be14d6c-e67c-4ced-beba-425f0769254d",
   "metadata": {},
   "outputs": [
    {
     "data": {
      "text/html": [
       "<div>\n",
       "<style scoped>\n",
       "    .dataframe tbody tr th:only-of-type {\n",
       "        vertical-align: middle;\n",
       "    }\n",
       "\n",
       "    .dataframe tbody tr th {\n",
       "        vertical-align: top;\n",
       "    }\n",
       "\n",
       "    .dataframe thead th {\n",
       "        text-align: right;\n",
       "    }\n",
       "</style>\n",
       "<table border=\"1\" class=\"dataframe\">\n",
       "  <thead>\n",
       "    <tr style=\"text-align: right;\">\n",
       "      <th></th>\n",
       "      <th>artist</th>\n",
       "      <th>song</th>\n",
       "      <th>text</th>\n",
       "    </tr>\n",
       "  </thead>\n",
       "  <tbody>\n",
       "    <tr>\n",
       "      <th>264</th>\n",
       "      <td>Morrissey</td>\n",
       "      <td>I've Changed My Plea To Guilty</td>\n",
       "      <td>i'm standing in the dock  \\r with my innocent ...</td>\n",
       "    </tr>\n",
       "    <tr>\n",
       "      <th>2471</th>\n",
       "      <td>Barbra Streisand</td>\n",
       "      <td>Ding-dong! The Witch Is Dead!</td>\n",
       "      <td>[barbra:]  \\r once there was a wicked witch  \\...</td>\n",
       "    </tr>\n",
       "    <tr>\n",
       "      <th>1764</th>\n",
       "      <td>Michael W. Smith</td>\n",
       "      <td>Great Is The Lord</td>\n",
       "      <td>great is the lord,  \\r he is holy and just  \\r...</td>\n",
       "    </tr>\n",
       "    <tr>\n",
       "      <th>158</th>\n",
       "      <td>Phil Collins</td>\n",
       "      <td>Why Can't It Wait 'till Morning</td>\n",
       "      <td>why can't it wait 'til morning?  \\r we can tal...</td>\n",
       "    </tr>\n",
       "    <tr>\n",
       "      <th>720</th>\n",
       "      <td>Ween</td>\n",
       "      <td>Awesome Sound</td>\n",
       "      <td>got an awesome sound goin' down  \\r got an awe...</td>\n",
       "    </tr>\n",
       "  </tbody>\n",
       "</table>\n",
       "</div>"
      ],
      "text/plain": [
       "                artist                             song  \\\n",
       "264          Morrissey   I've Changed My Plea To Guilty   \n",
       "2471  Barbra Streisand    Ding-dong! The Witch Is Dead!   \n",
       "1764  Michael W. Smith                Great Is The Lord   \n",
       "158       Phil Collins  Why Can't It Wait 'till Morning   \n",
       "720               Ween                    Awesome Sound   \n",
       "\n",
       "                                                   text  \n",
       "264   i'm standing in the dock  \\r with my innocent ...  \n",
       "2471  [barbra:]  \\r once there was a wicked witch  \\...  \n",
       "1764  great is the lord,  \\r he is holy and just  \\r...  \n",
       "158   why can't it wait 'til morning?  \\r we can tal...  \n",
       "720   got an awesome sound goin' down  \\r got an awe...  "
      ]
     },
     "execution_count": 96,
     "metadata": {},
     "output_type": "execute_result"
    }
   ],
   "source": [
    "df.sample(5)"
   ]
  },
  {
   "cell_type": "code",
   "execution_count": 109,
   "id": "b8c094ce-8be3-4a20-b43e-ac058941a975",
   "metadata": {},
   "outputs": [],
   "source": [
    "import pickle\n",
    "\n",
    "# Save similarity matrix\n",
    "pickle.dump(similarity, open(\"similarity.pkl\", \"wb\"))\n",
    "\n",
    "# Save dataframe\n",
    "pickle.dump(df, open(\"df.pkl\", \"wb\"))\n"
   ]
  },
  {
   "cell_type": "code",
   "execution_count": null,
   "id": "9b4574b9-c6ea-4951-b4a4-50144d77bf46",
   "metadata": {},
   "outputs": [],
   "source": []
  },
  {
   "cell_type": "code",
   "execution_count": null,
   "id": "50c69bd2-be04-47c2-9420-7166ee722aaf",
   "metadata": {},
   "outputs": [],
   "source": []
  },
  {
   "cell_type": "code",
   "execution_count": null,
   "id": "16b974c0-7d46-4997-ac38-035f90832e4e",
   "metadata": {},
   "outputs": [],
   "source": []
  },
  {
   "cell_type": "code",
   "execution_count": null,
   "id": "f8f6ddd4-0d89-404a-a4f0-4b6aa8404a66",
   "metadata": {},
   "outputs": [],
   "source": []
  },
  {
   "cell_type": "code",
   "execution_count": null,
   "id": "f2662dc8-c005-4db1-86c7-32479f3c19cc",
   "metadata": {},
   "outputs": [],
   "source": []
  },
  {
   "cell_type": "code",
   "execution_count": null,
   "id": "7c80eb99-db2e-4038-8b6e-09ed1b988a19",
   "metadata": {},
   "outputs": [],
   "source": []
  },
  {
   "cell_type": "code",
   "execution_count": null,
   "id": "9bc29628-a89d-41ed-b0dd-c5c17e873c9c",
   "metadata": {},
   "outputs": [],
   "source": []
  },
  {
   "cell_type": "code",
   "execution_count": null,
   "id": "478f1bfe-324d-48dc-981f-c01150c269c5",
   "metadata": {},
   "outputs": [],
   "source": []
  }
 ],
 "metadata": {
  "kernelspec": {
   "display_name": "Python [conda env:anaconda3] *",
   "language": "python",
   "name": "conda-env-anaconda3-py"
  },
  "language_info": {
   "codemirror_mode": {
    "name": "ipython",
    "version": 3
   },
   "file_extension": ".py",
   "mimetype": "text/x-python",
   "name": "python",
   "nbconvert_exporter": "python",
   "pygments_lexer": "ipython3",
   "version": "3.12.7"
  }
 },
 "nbformat": 4,
 "nbformat_minor": 5
}
